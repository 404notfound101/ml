{
  "nbformat": 4,
  "nbformat_minor": 0,
  "metadata": {
    "colab": {
      "name": "Assignment C",
      "provenance": [],
      "collapsed_sections": []
    },
    "kernelspec": {
      "name": "python3",
      "display_name": "Python 3"
    },
    "accelerator": "GPU"
  },
  "cells": [
    {
      "cell_type": "markdown",
      "metadata": {
        "id": "_Vw6FR1FUfD1"
      },
      "source": [
        "# 1.0 Introduction to JAX\n",
        "Main references:\n",
        "- [1] https://github.com/google/jax\n",
        "\n",
        "- [2] https://colindcarroll.com/2019/04/06/exercises-in-automatic-differentiation-using-autograd-and-jax/\n",
        "\n",
        "- [3] https://github.com/HIPS/autograd/blob/master/docs/tutorial.md\n",
        "- [4] https://colinraffel.com/blog/you-don-t-know-jax.html\n",
        "- [5] https://jax.readthedocs.io/en/latest/notebooks/autodiff_cookbook.html\n",
        "\n",
        "\n",
        "*At its core, JAX is an extensible system for transforming numerical functions.* JAX implements an updated version of **autograd**. Autograd's `grad` function takes in a **scalar** function, and returns to you the gradient function. \n",
        "\n",
        " In this tutorial we will go through some of the main features included in the JAX package: ```grad``` and ```jit```.\n",
        "\n",
        " One of the main features you will probably use during this course is the ```grad``` function for computing gradients of your loss functions with respect to your model's weights.\n"
      ]
    },
    {
      "cell_type": "markdown",
      "metadata": {
        "id": "CnUOTQXHqMfv"
      },
      "source": [
        "## 1.1 Step-by-step example on how to use ```jax.grad``` for auto-differentiation.\n",
        "\n",
        "**1) Define your function**\n",
        "\n",
        "$$y = \\sigma(wx + b),\\ \\sigma(x)=\\frac{1}{1+e^{-x}}$$"
      ]
    },
    {
      "cell_type": "code",
      "metadata": {
        "id": "4l38DEGQUitN"
      },
      "source": [
        "import jax.numpy as np\n",
        "from jax import grad, jit, vmap, random, value_and_grad\n",
        "import itertools\n",
        "import time\n",
        "\n",
        "\n",
        "key = random.PRNGKey(1)\n",
        "\n",
        "x = random.normal(key)\n",
        "w = random.normal(key+1)\n",
        "b = random.normal(key+2)\n",
        "\n",
        "def sigmoid(x):\n",
        "    return 1/(1 + np.exp(-x))\n",
        "\n",
        "# \n",
        "def make_linear_sigmoid(x): \n",
        "  def predict(W, b): # Here, you define the function with the parameters that define your model\n",
        "    return sigmoid(np.dot(x, W) + b)\n",
        "  return predict "
      ],
      "execution_count": null,
      "outputs": []
    },
    {
      "cell_type": "markdown",
      "metadata": {
        "id": "n6F1D2CpUvDK"
      },
      "source": [
        "## **2) Define your gradient with respect to the fitting weights**\n",
        "\n",
        "\n",
        "The function `grad` takes as arguments:\n",
        "-  `fun`: the numpy **function** for which the computation of the gradients is needed.\n",
        "- `argnums`: the **arguments** of the functions  with respect to which the function will be differentiated\n",
        "\n",
        "```\n",
        "grad_not_jit(fun = make_linear_sigmoid(x),\n",
        "                              argnums =  (0,1))\n",
        "\n",
        "```\n",
        "Returns the evaluated **gradients**.\n",
        "\n",
        "\n",
        "\n",
        "---\n",
        "**Quick quiz**: what would you change in the code above if you needed to differentiate the function only with respect to $b$?\n",
        "a: argnums=(1)"
      ]
    },
    {
      "cell_type": "markdown",
      "metadata": {
        "id": "hSKXLHE0U2p2"
      },
      "source": [
        "**Using jit to speed up functions (VERY IMPORTANT FOR THE FUTURE)**\n",
        "\n",
        "JAX provides jit (just in time compiler) which takes Python (using numpy) functions and compiles them such that they can be run efficiently on the chosen accelerators (CPU/GPU/TPU). Using jit could significantly speed up your computations and it requires little to no overhead in your coding. Let's have a look at a simple example. It is sufficient to use the jit decorator in front of your function such that the declared operation are compiled in advance (only once) and the code will run much more efficiently without any interpreter overhead."
      ]
    },
    {
      "cell_type": "code",
      "metadata": {
        "id": "RlNiA1psU4u6",
        "colab": {
          "base_uri": "https://localhost:8080/"
        },
        "outputId": "5bb07c29-d158-4eeb-d699-9e59f1030d4f"
      },
      "source": [
        "# I am ignoring the values returned for timing because of issues with the scoping of functions (timeit issue)\n",
        "grad_not_jit = grad(make_linear_sigmoid(x), (0,1))\n",
        "%timeit _, _ = grad_not_jit(w,b) # AUTOGRAD\n",
        "\n",
        "grad_jit = jit(grad(make_linear_sigmoid(x), (0,1)))\n",
        "%timeit _, _ = grad_jit(w,b) # AUTOGRAD\n",
        "\n",
        "# Check with the analytical computation\n",
        "w_gradient , b_gradient = grad_jit(w,b) # AUTOGRAD\n",
        "\n",
        "w_gradient_manual = sigmoid(np.dot(x, w) + b) * (1 - sigmoid(np.dot(x, w) + b)) * x\n",
        "b_gradient_manual = sigmoid(np.dot(x, w) + b) * (1 - sigmoid(np.dot(x, w) + b)) \n",
        "\n",
        "print()\n",
        "print('Autograd result : w')\n",
        "print(w_gradient)\n",
        "print('Manually derived result : w')\n",
        "print(w_gradient_manual)\n",
        "\n",
        "print('Autograd result : b')\n",
        "print(b_gradient)\n",
        "print('Manually derived result : b')\n",
        "print(b_gradient_manual)"
      ],
      "execution_count": null,
      "outputs": [
        {
          "output_type": "stream",
          "text": [
            "The slowest run took 79.79 times longer than the fastest. This could mean that an intermediate result is being cached.\n",
            "1 loop, best of 5: 5.73 ms per loop\n",
            "The slowest run took 1772.05 times longer than the fastest. This could mean that an intermediate result is being cached.\n",
            "10000 loops, best of 5: 71.6 µs per loop\n",
            "\n",
            "Autograd result : w\n",
            "-0.26804116\n",
            "Manually derived result : w\n",
            "-0.2680411\n",
            "Autograd result : b\n",
            "0.22633177\n",
            "Manually derived result : b\n",
            "0.22633173\n"
          ],
          "name": "stdout"
        }
      ]
    },
    {
      "cell_type": "markdown",
      "metadata": {
        "id": "zafRRNriqeyq"
      },
      "source": [
        "#2.0 Review of Linear Regression\n",
        "As studied in your lecture, in linear regression, we are given a data set $\\mathcal{D} =  \\{(x_n,t_n)\\}_{n=1}^N$, where $x_n = \\mathbb{R}^d$, where $d \\geq 1$ represents the dimension of your data,  and $t_n \\in \\mathbb{R}$ which are the target values that each data $x_n$ corresponds to. \n",
        "\n",
        "Next, we seek a prediction function $y$ that takes in $x_n$ and outputs a prediction vector,\n",
        "$$\n",
        "  y(x) = \\textstyle\\sum\\limits_{i = 1}^d w_i x_i + b.\n",
        "$$  \n",
        "\n",
        "Let the squared loss be defined as,\n",
        "\\begin{equation}\n",
        "\t\\mathcal{L}(x,t) = \\dfrac{1}{2}(y(x) - t)^2, t \\in \\mathbb{R} \n",
        "\\end{equation}\n",
        "We can then the optimal prediction function by minimizing the mean squared error,\n",
        "\\begin{equation}\n",
        "\t\t\\mathcal{E}(w) = \\dfrac{1}{2N}\\sum\\limits_{n=1}^N \\mathcal{L}(x_n, t_n) = \\dfrac{1}{2N}\\sum\\limits_{n=1}^N (w^\\top x_n + b - t_n)^2 \\tag*{(mse)}\n",
        "\\end{equation}"
      ]
    },
    {
      "cell_type": "markdown",
      "metadata": {
        "id": "iNxXD6S6CXGb"
      },
      "source": [
        "In the following code, you will generate a data set $\\mathcal{D}$ consisting of $20$ 1D data points $x_n$ sampled from a uniform distribution along with targets $t_n$ assumed to be given by the formula,\n",
        "\n",
        "$$\n",
        "  t_n = \\sin(\\pi x_n) + 0.3*\\epsilon, \\epsilon \\sim \\mathcal{N}(0,1)\n",
        "$$\n",
        "Let us visualize these data point using the Matplotlib package. "
      ]
    },
    {
      "cell_type": "code",
      "metadata": {
        "id": "lo79VxXU_hTe",
        "colab": {
          "base_uri": "https://localhost:8080/",
          "height": 265
        },
        "outputId": "de410d54-4434-40fc-97dd-53a99a16485a"
      },
      "source": [
        "n, d = 20, 1 #n represents data points and d represents the number of dimensions\n",
        "\n",
        "x = random.uniform(key, (n, d), dtype=np.float64,  minval = -5., maxval = 5.)    \n",
        "t = np.sin(np.pi*x) + 0.3*random.normal(key, (n, d))    \n",
        "\n",
        "import matplotlib.pyplot as plt\n",
        "\n",
        "plt.scatter(x, t)\n",
        "plt.show()"
      ],
      "execution_count": null,
      "outputs": [
        {
          "output_type": "display_data",
          "data": {
            "image/png": "[encoded data removed]",
            "text/plain": [
              "<Figure size 432x288 with 1 Axes>"
            ]
          },
          "metadata": {
            "tags": [],
            "needs_background": "light"
          }
        }
      ]
    },
    {
      "cell_type": "markdown",
      "metadata": {
        "id": "BWZKrSwX_zEp"
      },
      "source": [
        "## 2.1 Directly Solving for $w^\\star$ Using the Normal Equation\n",
        "\n",
        "Since our data set is small, therefore we can directly find the optimal predictor using a bit of linear algebra.\n",
        "\n",
        "To account for the bias term, it is common to redefining our data and weight as $x_n := \\begin{bmatrix} 1 & x_n^\\top \\end{bmatrix}$ and $w := \\begin{bmatrix} b & w^\\top \\end{bmatrix}$, \n",
        "$$\n",
        "  y(x_n) = \\textstyle\\sum\\limits_{i = 1}^{d+1} w_i x_{n_i} = w^\\top x_n.\n",
        "$$\n",
        "\n",
        "Then, we can show that our mean squared error can be equivalently written as $$\\mathcal{E}(w) =    \\dfrac{1}{2N} \\|Xw-t\\|^2_2,$$\n",
        "where \\begin{equation}\n",
        "X = \\begin{bmatrix} x_1^\\top \\\\ \\vdots \\\\ x_N^\\top \\end{bmatrix}  \\in \\mathbb{R}^{N \\times (d+1)} \\quad \\text{and} \\quad t = \\begin{bmatrix} t_1\\\\ \\vdots \\\\ t_N \\end{bmatrix} \\in \\mathbb{R}^N\n",
        "\\end{equation}\n",
        "\n",
        "It can be shown that, $$w^\\star = (X^\\top X)^{-1}X^\\top t$$ minimizes the mean-squared error $\\mathcal{E}$. This expression is sometimes referred to as the *normal equation*. \n",
        "\n",
        "**In the space below, build the matrix $X$ and find the optimal solution $w^\\star$. Afterwards, plot the optimal prediction function against your dataset.**\n"
      ]
    },
    {
      "cell_type": "code",
      "metadata": {
        "id": "eKBI6I6FDewW",
        "colab": {
          "base_uri": "https://localhost:8080/",
          "height": 332
        },
        "outputId": "52d420ac-848e-4dc6-865b-348adfe7da25"
      },
      "source": [
        "#Bult the X matrix here\n",
        "X = random.uniform(key, (20, 3), dtype=np.float64,  minval = -5., maxval = 5.)  \n",
        "b = np.ones((20,1))\n",
        "\n",
        "X = np.concatenate((b,X),axis=1)\n",
        "tar = np.dot(X,np.array([[1,2,3,4]]).T)+ 0.3*random.normal(key, (20, 1)) \n",
        "#Compute w using the normal equation\n",
        "w = np.dot(np.dot(np.linalg.inv(np.dot(X.T,X)),X.T),tar)\n",
        "print(w)\n",
        "#Write your optimal predictor here\n",
        "y = np.dot(X,w) \n",
        "\n",
        "#Plot your prediction against data points\n",
        "index=np.arange(20)\n",
        "plt.plot(index,tar,\"o\",index,y,\"-\")\n",
        "plt.legend(loc='lower left', labels=['target value', 'predicted value'])\n",
        "plt.show()"
      ],
      "execution_count": null,
      "outputs": [
        {
          "output_type": "stream",
          "text": [
            "[[0.8563728]\n",
            " [1.9547423]\n",
            " [2.9778275]\n",
            " [4.0255833]]\n"
          ],
          "name": "stdout"
        },
        {
          "output_type": "display_data",
          "data": {
            "image/png": "[encoded data removed]",
            "text/plain": [
              "<Figure size 432x288 with 1 Axes>"
            ]
          },
          "metadata": {
            "tags": [],
            "needs_background": "light"
          }
        }
      ]
    },
    {
      "cell_type": "markdown",
      "metadata": {
        "id": "lJb5DlnU_MmR"
      },
      "source": [
        "## 2.2 Find $w^\\star$ Using Gradient Descent\n",
        "\n",
        "Next, you will use gradient descent to find the solution to the linear regression problem. Recall that the update equation for gradient descent (as studied in class) is given by,\n",
        "\n",
        "$$w_{k+1} = w_k - \\alpha \\nabla \\mathcal{E}(w_k)$$\n",
        "\n",
        "$\\alpha$ is our learning rate which is usually a small number, e.g., $0.1$\n",
        "\n",
        "**Implement a jax routine for calculating the gradient of $\\mathcal{E}$, and then run the gradient descent algorithm (say, for 100 iterations) until the optimal weight is found.** "
      ]
    },
    {
      "cell_type": "markdown",
      "metadata": {
        "id": "YdtO4WdyVyGW"
      },
      "source": [
        "### 2.2.1 **Define the mse function**\n",
        "\n",
        "Hint: your code could be similar to how we built the logistic function at the beginning"
      ]
    },
    {
      "cell_type": "code",
      "metadata": {
        "id": "prvljG9lV8DI"
      },
      "source": [
        "# Build the mse function here\n",
        "from scipy.special import expit as sigmoid\n",
        "import math\n",
        "def forward(X,tar):\n",
        "  def params(w):\n",
        "    return np.sum((np.dot(X,w)-tar)*(np.dot(X,w)-tar)*0.5)/len(x)\n",
        "  return params"
      ],
      "execution_count": null,
      "outputs": []
    },
    {
      "cell_type": "markdown",
      "metadata": {
        "id": "_MhXNfNGV995"
      },
      "source": [
        "### 2.2.2 **Implement Gradient Descent and Run for (say, 100) Interations**\n",
        "\n",
        "\n",
        "$$w_{k+1} = w_k - \\alpha \\nabla \\mathcal{E}(w_k)$$\n",
        "\n",
        "Hint: The function `grad` takes as arguments:\n",
        "-  `fun`: the numpy **function** for which the computation of the gradients is needed.\n",
        "- `argnums`: the **arguments** of the functions  with respect to which the function will be differentiated\n",
        "\n",
        "Example:\n",
        "```\n",
        "w_gradient, b_gradient = grad(fun = make_mse(x, t), argnums = (0,1))(w,b) \n",
        "```\n",
        "\n",
        "Then use calculated the gradient in your gradient descent update in a FOR loop\n",
        "."
      ]
    },
    {
      "cell_type": "code",
      "metadata": {
        "id": "yvKaU7Oj9jtm",
        "colab": {
          "base_uri": "https://localhost:8080/"
        },
        "outputId": "e85eee3b-f3c2-41c8-cd4f-3d317f8c824e"
      },
      "source": [
        "alpha = 0.1\n",
        "iterations = 100\n",
        "\n",
        "# Update w, b by calculating the gradient and making the update. \n",
        "GDnotjit = grad(forward(X,tar), (0))\n",
        "w_initial = random.uniform(key, (4, 1), dtype=np.float64)\n",
        "print(w_initial)\n",
        "for i in range(iterations):\n",
        "  w_gradient = GDnotjit(w_initial)\n",
        "  w_initial-=alpha*w_gradient\n",
        "  loss=np.sum((np.dot(X,w_initial)-tar)*(np.dot(X,w_initial)-tar)*0.5)/len(x)\n",
        "  if i%10==0:\n",
        "    print(\"w: \",w_initial,loss)\n",
        "w_optimal=w_initial"
      ],
      "execution_count": null,
      "outputs": [
        {
          "output_type": "stream",
          "text": [
            "[[0.5685525 ]\n",
            " [0.322456  ]\n",
            " [0.8893297 ]\n",
            " [0.47169125]]\n",
            "w:  [[0.9298066]\n",
            " [2.6671119]\n",
            " [2.8518972]\n",
            " [2.8518085]] 5.118276\n",
            "w:  [[0.94474745]\n",
            " [1.9543501 ]\n",
            " [2.9758232 ]\n",
            " [4.0129395 ]] 0.03208787\n",
            "w:  [[0.8909025]\n",
            " [1.9544897]\n",
            " [2.9770794]\n",
            " [4.020877 ]] 0.029052904\n",
            "w:  [[0.8698519]\n",
            " [1.9546436]\n",
            " [2.9775355]\n",
            " [4.023746 ]] 0.028590614\n",
            "w:  [[0.8616343]\n",
            " [1.9547036]\n",
            " [2.9777133]\n",
            " [4.0248656]] 0.02852014\n",
            "w:  [[0.85842645]\n",
            " [1.9547272 ]\n",
            " [2.9777827 ]\n",
            " [4.025303  ]] 0.028509308\n",
            "w:  [[0.85717416]\n",
            " [1.9547361 ]\n",
            " [2.97781   ]\n",
            " [4.0254736 ]] 0.0285077\n",
            "w:  [[0.85668534]\n",
            " [1.9547399 ]\n",
            " [2.9778206 ]\n",
            " [4.0255404 ]] 0.028507465\n",
            "w:  [[0.8564945]\n",
            " [1.9547412]\n",
            " [2.9778247]\n",
            " [4.0255666]] 0.02850744\n",
            "w:  [[0.85642004]\n",
            " [1.9547417 ]\n",
            " [2.977826  ]\n",
            " [4.0255766 ]] 0.028507425\n"
          ],
          "name": "stdout"
        }
      ]
    },
    {
      "cell_type": "markdown",
      "metadata": {
        "id": "cc9nsGzzWtIl"
      },
      "source": [
        "### 2.2.3 **Build your optimal linear prediction function and visualize your fit to the data**\n"
      ]
    },
    {
      "cell_type": "code",
      "metadata": {
        "id": "l_7U1E_YW-8K",
        "colab": {
          "base_uri": "https://localhost:8080/",
          "height": 265
        },
        "outputId": "cc5625fd-15ad-49fd-c501-35e008995e67"
      },
      "source": [
        "# Your optimal linear prediction function here\n",
        "Y=np.dot(X,w_optimal)\n",
        "\n",
        "\n",
        "# Visualize your data and your fit\n",
        "plt.plot(index,tar,\"o\",index,Y,\"-\")\n",
        "plt.legend(loc='lower left', labels=['target value', 'predicted value'])\n",
        "plt.show()"
      ],
      "execution_count": null,
      "outputs": [
        {
          "output_type": "display_data",
          "data": {
            "image/png": "[encoded data removed]",
            "text/plain": [
              "<Figure size 432x288 with 1 Axes>"
            ]
          },
          "metadata": {
            "tags": [],
            "needs_background": "light"
          }
        }
      ]
    },
    {
      "cell_type": "markdown",
      "metadata": {
        "id": "sLQ6TKZ2Xk8G"
      },
      "source": [
        "### 2.2.4 **(Optional) You can use jit to speed calculation.** \n",
        "\n",
        "**Repeat the gradient descent procedure as before but using jit to speed up the calculation of gradients.**"
      ]
    },
    {
      "cell_type": "code",
      "metadata": {
        "id": "cugsYg-zXv_0"
      },
      "source": [
        "# Build your jitted gradient descent iteration here"
      ],
      "execution_count": null,
      "outputs": []
    },
    {
      "cell_type": "markdown",
      "metadata": {
        "id": "mQJ1rmRrBdbT"
      },
      "source": [
        "#3.0 Overfitting and Regularization\n",
        "\n",
        "The goal of supervised machine learning is to make accurate predictions on data that are not from the training set, also known as the *test set*. However it is not guaranteed that the more data we train on, the better we will perform on the test set. \n",
        "\n",
        "It could happen that we fit our training set too well, so that a test data that does not look like the training data will cause a large error in our prediction. This is called **overfitting**: the scenario when a predictor that achieves a lower error on the training set results in a large error on the test set.\n",
        "\n",
        "To overcome overfitting, we can use a technique called regularization, which involves adding a function on to our mean squared error. In the following examples, we will step through several examples of regularization techniques. "
      ]
    },
    {
      "cell_type": "markdown",
      "metadata": {
        "id": "tpN2YCd6rZN-"
      },
      "source": [
        "## 3.1 Building a Dataset\n",
        "\n",
        "The code below creates a data set of  $n = 100$ examples generated from uniformly from $[-5, 5]$, each example is $5$ dimensional. The targets are assigned as follows, $$t  = x^\\top \\overline w + 0.1 * \\epsilon, \\epsilon \\sim \\mathcal{N}(0,1)$$ \n",
        "where $\\overline w$ is a randomly generated vector with normal distribution. \n",
        "\n",
        "\n",
        "**Your first task is to partition the data into 50 test examples, 20 validation examples and 30 test examples.** "
      ]
    },
    {
      "cell_type": "code",
      "metadata": {
        "id": "E3K6GbuJA6g2",
        "colab": {
          "base_uri": "https://localhost:8080/"
        },
        "outputId": "41b0a1f9-6c4d-42f5-824f-2ff451456413"
      },
      "source": [
        "d = 5                             #dimension of your data\n",
        "n = 100                           #total number of data points\n",
        "n_train = 50                      #total number of training examples\n",
        "n_validate = 20                   #total number of examples for validation \n",
        "n_test = 30                       #total number of examples for testing\n",
        "\n",
        "x_data = random.uniform(key, (n, d), dtype=np.float64,  minval = -5., maxval = 5.)    \n",
        "true_w = random.normal(key, (d,))\n",
        "t_data = x_data.dot(true_w) + 0.1 * random.normal(key, (n,))\n",
        "\n",
        "#Partition into training, validation and test set\n",
        "x_train = x_data[:50]\n",
        "x_val = x_data[50:70]\n",
        "x_test = x_data[70:100]\n",
        "\n",
        "t_train = t_data[:50]\n",
        "t_val = t_data[50:70]\n",
        "t_test = t_data[70:100]\n",
        "print(x_data)"
      ],
      "execution_count": null,
      "outputs": [
        {
          "output_type": "stream",
          "text": [
            "[[ 1.4137816   1.430788    4.0541945  -1.2773418  -2.0266628 ]\n",
            " [ 3.9236727  -0.32455206  1.3953028   1.1383653   3.1143055 ]\n",
            " [-2.741723    3.9734507   4.302367    2.4208593  -3.4558427 ]\n",
            " [-1.6669703   1.456387    2.1204448   0.9421692  -1.5382063 ]\n",
            " [-1.3605666  -3.4809303  -4.8397684  -3.6949873  -0.31685734]\n",
            " [-0.6236706  -3.5205686  -3.5384655  -2.0179164  -3.8888943 ]\n",
            " [-3.9208055  -4.327141   -4.348073    3.2808914   0.58691025]\n",
            " [-2.7467191   2.238573    0.48922634  1.2298145   1.9059467 ]\n",
            " [-1.4907634   1.0580468  -1.8860197   0.24154425 -4.4085083 ]\n",
            " [-4.908631    0.98646736 -3.404014    2.3044405   4.449663  ]\n",
            " [ 0.02124786  3.9214525  -0.23204088  0.77283955 -0.27360058]\n",
            " [ 3.4294024  -3.520472   -1.5473902  -3.1539404  -2.9430747 ]\n",
            " [ 2.602532   -2.0462      0.27842522 -0.20933056  0.6970539 ]\n",
            " [-1.9941795   1.4481997  -3.3872437  -3.4926784  -0.1673994 ]\n",
            " [ 0.934535   -3.1480074   3.0547314   4.672592   -3.7734222 ]\n",
            " [-1.6803193   1.8864164  -0.8594656   2.666738   -1.9837177 ]\n",
            " [ 1.6789031   2.4463072   4.1891975  -2.4898386  -2.3841023 ]\n",
            " [-1.6976333   1.6778746  -3.5489428   0.1350236   0.26304626]\n",
            " [-0.20182133 -3.1680954  -3.9286172  -1.446209   -0.6495247 ]\n",
            " [-0.46858883 -4.6104136  -0.41269064 -2.2104108   4.579918  ]\n",
            " [ 4.762985    0.6430483   4.7366524   0.7354927  -0.89155436]\n",
            " [-1.7773223   4.8331976   3.5519466   0.04916906 -4.4863997 ]\n",
            " [-3.0410564  -2.5396383  -4.369603    2.5301766  -0.06345367]\n",
            " [-3.842461    4.5331745  -0.7193303   4.3920345  -4.057467  ]\n",
            " [-2.2009087   3.1856403  -0.7011175  -2.8273332  -0.8765497 ]\n",
            " [-4.1573706   2.2705793  -3.902738   -1.0860944  -2.233286  ]\n",
            " [ 3.426509   -0.40227652 -0.3308525   0.4222703   4.892787  ]\n",
            " [ 1.876595   -3.3042622  -4.8203526  -4.3949485   3.5358953 ]\n",
            " [-0.33437824  4.4986763   1.4823914   4.3998985  -1.2323546 ]\n",
            " [-1.9524288   2.3768291  -4.1829157  -4.09276    -2.2717345 ]\n",
            " [ 1.010561   -3.973645    0.4805746  -2.8441381  -4.32568   ]\n",
            " [-0.29915714  4.020418    3.0655231   3.0905685   2.7407923 ]\n",
            " [-1.8907785  -4.60073    -4.624449   -1.522721    0.814116  ]\n",
            " [-4.5722246   0.10588408 -3.8065612  -1.9777203   3.3488293 ]\n",
            " [ 1.4591513  -0.05182838  0.70620155 -1.7055845  -3.190608  ]\n",
            " [ 0.94321966 -3.0150592  -2.1420228  -4.889865    1.3678274 ]\n",
            " [-1.069746   -3.5648382  -3.2159567  -0.34682655 -1.5038908 ]\n",
            " [-4.9552703   2.4248624  -3.9265049   0.17114258 -4.483076  ]\n",
            " [-1.5320528   4.8487463  -0.77032185  3.0854845  -3.3061087 ]\n",
            " [ 2.2046566   4.480133    1.399734   -2.6068377   1.420176  ]\n",
            " [-2.984271    3.0232544  -0.2312398  -4.8188806   2.7735043 ]\n",
            " [ 1.3595343  -1.6598547   1.6177473  -1.821847    0.24557018]\n",
            " [-3.1293094   4.920389   -1.8583453   4.556488   -2.2946477 ]\n",
            " [-0.8352089  -2.9276073   4.6100855  -3.280989    2.0264888 ]\n",
            " [ 4.994583    0.15920877 -3.2456589   4.527029    1.8413696 ]\n",
            " [ 4.0587034  -0.6455183   4.6347427  -1.0426724   1.847683  ]\n",
            " [-0.7507348   0.08593464 -1.4720106   4.2659435  -3.8372111 ]\n",
            " [ 0.46246147  0.21019697  0.9429836   1.6662827   4.453747  ]\n",
            " [-4.1438046   1.9436002   0.40996933  3.979992   -2.8024554 ]\n",
            " [ 3.6562786   4.5921946   1.2072563   2.1852245   0.33908272]\n",
            " [-3.1122053  -4.2194486   2.2664843  -4.9388576  -4.4812274 ]\n",
            " [-0.87506866  4.8004627  -0.45037985 -4.1433907  -1.7593503 ]\n",
            " [-1.0760772   4.0093975   4.7806396  -3.5845637   1.4595103 ]\n",
            " [-3.5787952  -2.005124    0.09581184  1.3039246  -4.2871485 ]\n",
            " [-2.9399323  -4.9265265  -2.959417   -1.4929998  -4.9886284 ]\n",
            " [-1.6952562  -3.5139382   2.6537523  -0.34901237 -4.5598364 ]\n",
            " [-2.8827918   3.5528803  -3.868301    1.5982761  -1.4756691 ]\n",
            " [-3.1926048   0.7807293  -1.984061    0.18369198  2.6347733 ]\n",
            " [ 0.6668806   4.185034    0.9008064   0.4956665   1.7274666 ]\n",
            " [ 4.8055277  -1.9746053   4.755269   -4.7806797   2.066926  ]\n",
            " [ 1.0238304   3.749712    2.4616194   1.0014858  -3.283118  ]\n",
            " [ 4.681736   -3.033501   -0.96269035 -0.04789734 -2.4832332 ]\n",
            " [-1.9692135   3.6185703  -1.1163533   0.18836594 -2.356137  ]\n",
            " [-2.5009382  -3.2418048  -0.87965107 -2.736212   -4.5253096 ]\n",
            " [-4.766988   -1.3577521  -1.6693294  -0.22660637  0.8170452 ]\n",
            " [-0.82331085  1.8665943  -0.26395226  0.04995251  4.865679  ]\n",
            " [ 3.6086826   3.1318645  -1.8474364  -4.1789436  -0.3326645 ]\n",
            " [ 1.6548872  -2.7106953  -4.977003    3.430893    2.930591  ]\n",
            " [-1.16997     0.63158417 -1.9682288   4.0509796  -2.5931072 ]\n",
            " [-2.6216257  -3.093747    4.668602   -0.46237087 -2.3085034 ]\n",
            " [-1.661346    2.1552029  -0.8494806  -1.8656003   3.022356  ]\n",
            " [-0.69103813  0.8347044  -1.536659    3.7136507  -2.3189354 ]\n",
            " [-4.940442    1.1244764  -3.8237357   3.1770344  -2.6271892 ]\n",
            " [-2.4690056  -2.310977    3.9212837   3.9103947  -0.4360962 ]\n",
            " [-2.0502913   1.6764631   2.1695652   1.3226652  -4.0424786 ]\n",
            " [-2.354921   -4.0099406   2.3889017  -1.9719124  -0.19637108]\n",
            " [ 1.9787359   1.0847149   2.2714639   2.7787662   1.7010746 ]\n",
            " [-1.2127197   3.7736902  -1.5251887  -2.444967    1.9880629 ]\n",
            " [ 1.952312   -3.3114207  -0.47912598  2.4963274   2.9427109 ]\n",
            " [ 1.4335608   4.92118     4.5374956   0.82632065 -1.7579222 ]\n",
            " [ 3.0879602  -4.6982455   3.7853317   1.183485    3.571333  ]\n",
            " [-1.2676096   3.5298548   4.068228    1.5481949   0.6424942 ]\n",
            " [ 3.8796082   2.3851786  -1.8071854  -2.9169106  -2.094053  ]\n",
            " [ 1.3773308   2.2653246   3.1064491  -3.341918   -2.2292936 ]\n",
            " [-1.800977   -1.4505947  -2.570026    1.825006    2.8754973 ]\n",
            " [-1.4134347   2.627561    2.7710114   4.8524704  -4.6722865 ]\n",
            " [-1.5918374   4.2373905  -4.884285    1.7538071  -2.0812392 ]\n",
            " [ 3.461114    1.0364637  -0.0090456   1.4762964   0.30557394]\n",
            " [-2.4229956  -1.9789982  -1.6497195   4.888151   -4.115393  ]\n",
            " [-2.3427105   2.060443    0.69908714  2.9317532   4.09194   ]\n",
            " [-4.2524624  -0.12559414  2.2042952  -0.17577076 -4.9666476 ]\n",
            " [ 1.671145   -0.43465233  4.691619   -3.075608    1.9116569 ]\n",
            " [-0.28837204  2.4378386   0.7907343   4.513936   -3.8133907 ]\n",
            " [ 2.5042143   2.6273766  -0.06359339  3.2931662   0.1842537 ]\n",
            " [-2.3094952  -2.479843   -3.4309316   3.166151    3.8979416 ]\n",
            " [ 1.596129    3.8872395  -2.4151516  -3.9591122  -1.6849446 ]\n",
            " [ 2.8624487  -4.5166945  -2.4588478  -3.2418156   4.4525623 ]\n",
            " [-4.456756    2.5596762  -3.7011278  -1.8942595  -3.9910698 ]\n",
            " [-2.154379   -2.9366815  -2.6815653   1.8865466   2.9898906 ]\n",
            " [ 0.763937    0.07937908  1.5337849   1.3712225   2.6948538 ]]\n"
          ],
          "name": "stdout"
        }
      ]
    },
    {
      "cell_type": "markdown",
      "metadata": {
        "id": "Lo_PLbWzdCBX"
      },
      "source": [
        "## 3.2 Solve for $w^\\star$ Using Gradient Descent\n",
        "\n",
        "Next, using the same linear regresion code that you have built above, using gradient descent, compute the optimal predictor $y = x^\\top w^\\star + b^\\star$ corresponding to the mean-squared error \n",
        "$$\\mathcal{E}(w) = \\dfrac{1}{2N}\\sum\\limits_{n=1}^N (w^\\top x_n + b - t_n)^2$$ \n",
        "\n",
        "Afterwards, find the error between the predicted targets on the test set versus the true test targets using the formula,\n",
        "$$\\|y_\\text{test}- t_\\text{test}\\|_2$$\n",
        "where $y_\\text{test}$ is your prediction on the test set. "
      ]
    },
    {
      "cell_type": "code",
      "metadata": {
        "id": "239r52sHRgsK",
        "colab": {
          "base_uri": "https://localhost:8080/"
        },
        "outputId": "4e431d68-09bb-49ce-8655-6689808d257d"
      },
      "source": [
        "#Define your mse function here \n",
        "def mse(x,t):\n",
        "  def error(w):\n",
        "    return np.sum((np.dot(x,w)-t)*(np.dot(x,w)-t)*0.5)/len(x)\n",
        "  return error\n",
        "#Perform gradient descent\n",
        "learningrate = 0.01\n",
        "iterations = 100\n",
        " \n",
        "GD = grad(mse(x_train,t_train), (0))\n",
        "w_initial = random.uniform(key, (d,), dtype=np.float64)\n",
        "print(w_initial)\n",
        "for i in range(iterations):\n",
        "  w_gradient = GD(w_initial)\n",
        "  w_initial-=learningrate*w_gradient\n",
        "  aggerr=np.sum((np.dot(x_train,w_initial)-t_train)*(np.dot(x_train,w_initial)-t_train)*0.5)/len(x_train)\n",
        "  if i%10==0:\n",
        "    print(\"w: \",w_initial,aggerr)\n",
        "\n",
        "loss=np.sum((np.dot(x_val,w_initial)-t_val)*(np.dot(x_val,w_initial)-t_val)*0.5)/len(x_val)\n",
        "if loss>aggerr:\n",
        "  print(\"validation fails\",loss)\n",
        "else:\n",
        "  print(\"validation completed\")\n",
        "\n",
        "w_optimal=w_initial\n",
        "\n",
        "#Compute and print your test error\n",
        "y_test=x_test.dot(w_optimal)\n",
        "testerr=math.sqrt(np.sum((y_test-t_test)*(y_test-t_test)))\n",
        "print(testerr)"
      ],
      "execution_count": null,
      "outputs": [
        {
          "output_type": "stream",
          "text": [
            "[0.83079386 0.1660409  0.45611215 0.6428884  0.56865394]\n",
            "w:  [0.8370034  0.04520406 0.37929025 0.58540785 0.567572  ] 7.6980267\n",
            "w:  [ 0.8798487  -0.6006399  -0.00203413  0.33893847  0.46062616] 0.86957777\n",
            "w:  [ 0.90798855 -0.8076084  -0.09354074  0.31384078  0.3444836 ] 0.18406372\n",
            "w:  [ 0.92749095 -0.88839495 -0.11519028  0.3261901   0.27063826] 0.052927516\n",
            "w:  [ 0.94010526 -0.9254346  -0.12025023  0.33969313  0.2289996 ] 0.01812475\n",
            "w:  [ 0.94784355 -0.9441278  -0.12151283  0.34910834  0.20641069] 0.008023058\n",
            "w:  [ 0.9524578  -0.9540061  -0.12195915  0.35500154  0.19430926] 0.005020983\n",
            "w:  [ 0.9551798  -0.959324   -0.12223489  0.35855085  0.18784556] 0.0041198614\n",
            "w:  [ 0.956787   -0.9622016  -0.12245855  0.36065286  0.1843903 ] 0.0038472917\n",
            "w:  [ 0.9577443  -0.96375597 -0.12264467  0.36188662  0.1825386 ] 0.0037641686\n",
            "validation fails 0.004698316\n",
            "0.6157995383221567\n"
          ],
          "name": "stdout"
        }
      ]
    },
    {
      "cell_type": "markdown",
      "metadata": {
        "id": "dl1r0yIScAo7"
      },
      "source": [
        "## 3.3 $l_2$ regularization\n",
        "\n",
        "The first regularization technique we will introduce is called $l_2$ regularization. \n",
        "\n",
        "We define our mean-squared loss function as\n",
        "$$\\mathcal{E}_{l_2}(w) = \\dfrac{1}{2N}\\sum\\limits_{n=1}^N (w^\\top x_n + b - t_n)^2 + \\dfrac{\\lambda_2}{2}\\|w\\|^2_2$$\n",
        "where $\\lambda_2$ is a small positive constant we refer to as the regularization constant, e.g., $r = 0.01$. \n",
        "\n",
        "This optimization problem is called *ridge regression*. \n",
        "\n",
        "Make slight changes to your previous code to account for the $l_2$ norm, and using gradient descent, compute the optimal predictor $y = x^\\top w^\\star + b^\\star$ corresponding to this regularized mean-squared error."
      ]
    },
    {
      "cell_type": "code",
      "metadata": {
        "id": "n-uUXTKk2WqK",
        "colab": {
          "base_uri": "https://localhost:8080/"
        },
        "outputId": "87882a30-0490-4d0a-c7ba-56bcae593d03"
      },
      "source": [
        "#Define your mse function here \n",
        "def mse(x,t):\n",
        "  def error(w,r):\n",
        "    return np.sum((np.dot(x,w)-t)*(np.dot(x,w)-t)*0.5)/len(x)+r*0.5*np.sum(w*w)\n",
        "  return error \n",
        "\n",
        "#Perform gradient descent\n",
        "learningrate = 0.01\n",
        "iterations = 100\n",
        "r=0.01 \n",
        "GD = grad(mse(x_train,t_train), (0))\n",
        "w_initial = random.uniform(key, (d,), dtype=np.float64)\n",
        "print(w_initial)\n",
        "for i in range(iterations):\n",
        "  w_gradient = GD(w_initial,r)\n",
        "  w_initial-=learningrate*w_gradient\n",
        "  aggerr=np.sum((np.dot(x_train,w_initial)-t_train)*(np.dot(x_train,w_initial)-t_train)*0.5)/len(x_train)+r*0.5*np.sum(w_initial*w_initial)\n",
        "  if i%10==0:\n",
        "    print(\"w: \",w_initial,aggerr)\n",
        "\n",
        "loss=np.sum((np.dot(x_val,w_initial)-t_val)*(np.dot(x_val,w_initial)-t_val)*0.5)/len(x_val)+r*0.5*np.sum(w_initial*w_initial)\n",
        "if loss>aggerr:\n",
        "  print(\"validation fails\",loss,loss-aggerr)\n",
        "else:\n",
        "  print(\"validation completed\")\n",
        "\n",
        "w_optimal=w_initial\n",
        "\n",
        "#Compute and print your test error\n",
        "y_test=x_test.dot(w_optimal)\n",
        "testerr=math.sqrt(np.sum((y_test-t_test)*(y_test-t_test)))\n",
        "print(testerr)"
      ],
      "execution_count": null,
      "outputs": [
        {
          "output_type": "stream",
          "text": [
            "[0.83079386 0.1660409  0.45611215 0.6428884  0.56865394]\n",
            "w:  [0.8369203  0.04518746 0.37924463 0.58534354 0.56751513] 7.704812\n",
            "w:  [ 0.8792205  -0.6004217  -0.00204661  0.33854747  0.46025792] 0.8769959\n",
            "w:  [ 0.9070743  -0.80709803 -0.09335087  0.31326294  0.34413075] 0.19315135\n",
            "w:  [ 0.9263899  -0.8876985  -0.11485956  0.32545838  0.27040595] 0.06266121\n",
            "w:  [ 0.9388703  -0.9246258  -0.11983083  0.3388452   0.2288896 ] 0.028115332\n",
            "w:  [ 0.94651115 -0.94325143 -0.12103494  0.34817934  0.2063957 ] 0.01811276\n",
            "w:  [ 0.951055   -0.95309    -0.12144034  0.35401845  0.19436076] 0.015147542\n",
            "w:  [ 0.9537263  -0.9583855  -0.12168634  0.35753253  0.18794124] 0.014259808\n",
            "w:  [ 0.95529735 -0.9612515  -0.12188791  0.359612    0.18451455] 0.013992036\n",
            "w:  [ 0.9562286  -0.9628006  -0.12205748  0.36083144  0.18268101] 0.01391064\n",
            "validation fails 0.014787367 0.0009003151\n",
            "0.617477831577725\n"
          ],
          "name": "stdout"
        }
      ]
    },
    {
      "cell_type": "markdown",
      "metadata": {
        "id": "7qu-GjdOuir0"
      },
      "source": [
        "### 3.3.1 Hyperparameter Tuning Using Validation Set\n",
        "\n",
        "Next, you are going to tune the regularization parameter $\\lambda_2$ using your validation set. \n",
        "\n",
        "Train several different models for $\\lambda_2 \\in \\{0.1, 0.01, 0.001\\}$. Then compute the error between your prediction on the validation set and the corresponding targets using the formula,\n",
        "$$\\|y_\\text{val}- t_\\text{val}\\|_2$$\n",
        "\n",
        "Pick the best performing model."
      ]
    },
    {
      "cell_type": "code",
      "metadata": {
        "id": "z5_AF5SjdJnK",
        "colab": {
          "base_uri": "https://localhost:8080/"
        },
        "outputId": "8abc752f-3b1a-4bc2-f5bb-5ff98b98938a"
      },
      "source": [
        "#Your code Here\n",
        "r=np.array([0.1,0.01,0.001])\n",
        "w_initial = random.uniform(key, (d,), dtype=np.float64)\n",
        "print(w_initial)\n",
        "for k in range(len(r)):\n",
        "  w_exe=w_initial\n",
        "  def mse(x,t):\n",
        "    def error(w,r):\n",
        "      return np.sum((np.dot(x,w)-t)*(np.dot(x,w)-t)*0.5)/len(x)+r[k]*0.5*np.sum(w*w)\n",
        "    return error \n",
        "  GD = grad(mse(x_train,t_train), (0))\n",
        "  for i in range(iterations):\n",
        "    w_gradient = GD(w_exe,r)\n",
        "    w_exe-=learningrate*w_gradient\n",
        "    aggerr=np.sum((np.dot(x_train,w_exe)-t_train)*(np.dot(x_train,w_exe)-t_train)*0.5)/len(x_train)+r[k]*0.5*np.sum(w_exe*w_exe)\n",
        "    if i%10==0:\n",
        "      print(\"iteration: \",i,\"loss: \",aggerr)\n",
        "  print(\"learning done\")\n",
        "  y_val=x_val.dot(w_exe)\n",
        "  valerr=math.sqrt(np.sum((y_val-t_val)*(y_val-t_val)))\n",
        "  print(\"validaiton error: \",valerr)\n",
        "#pick the best performing model\n",
        "r=0.01\n"
      ],
      "execution_count": null,
      "outputs": [
        {
          "output_type": "stream",
          "text": [
            "[0.83079386 0.1660409  0.45611215 0.6428884  0.56865394]\n",
            "iteration:  0 loss:  7.765745\n",
            "iteration:  10 loss:  0.9431494\n",
            "iteration:  20 loss:  0.27403587\n",
            "iteration:  30 loss:  0.14918116\n",
            "iteration:  40 loss:  0.1168496\n",
            "iteration:  50 loss:  0.10769016\n",
            "iteration:  60 loss:  0.10503388\n",
            "iteration:  70 loss:  0.10425641\n",
            "iteration:  80 loss:  0.10402739\n",
            "iteration:  90 loss:  0.10395959\n",
            "learning done\n",
            "validaiton error:  0.48931104785383583\n",
            "iteration:  0 loss:  7.704812\n",
            "iteration:  10 loss:  0.8769959\n",
            "iteration:  20 loss:  0.19315135\n",
            "iteration:  30 loss:  0.06266121\n",
            "iteration:  40 loss:  0.028115332\n",
            "iteration:  50 loss:  0.01811276\n",
            "iteration:  60 loss:  0.015147542\n",
            "iteration:  70 loss:  0.014259808\n",
            "iteration:  80 loss:  0.013992036\n",
            "iteration:  90 loss:  0.01391064\n",
            "learning done\n",
            "validaiton error:  0.4324355766792823\n",
            "iteration:  0 loss:  7.698706\n",
            "iteration:  10 loss:  0.8703203\n",
            "iteration:  20 loss:  0.18497333\n",
            "iteration:  30 loss:  0.05390199\n",
            "iteration:  40 loss:  0.019125013\n",
            "iteration:  50 loss:  0.009033271\n",
            "iteration:  60 loss:  0.006034908\n",
            "iteration:  70 loss:  0.0051351422\n",
            "iteration:  80 loss:  0.004863055\n",
            "iteration:  90 loss:  0.0047801062\n",
            "learning done\n",
            "validaiton error:  0.4333322440952892\n"
          ],
          "name": "stdout"
        }
      ]
    },
    {
      "cell_type": "markdown",
      "metadata": {
        "id": "5sydfmSVuvRU"
      },
      "source": [
        "### 3.3.2 Compute Test Error\n",
        "\n",
        "Finally, using the best performing model, find the error between the predicted targets on the test set versus the true test targets using the formula,\n",
        "$$\\|y_\\text{test}- t_\\text{test}\\|_2$$\n",
        "where $y_\\text{test}$ is your prediction on the test set. "
      ]
    },
    {
      "cell_type": "code",
      "metadata": {
        "id": "q2rMuty9dIU2",
        "colab": {
          "base_uri": "https://localhost:8080/"
        },
        "outputId": "0ba5a4fa-b548-4caf-8fc8-e014b692809f"
      },
      "source": [
        "# Your code Here\n",
        "#Define your mse function here \n",
        "def mse(x,t):\n",
        "  def error(w,r):\n",
        "    return np.sum((np.dot(x,w)-t)*(np.dot(x,w)-t)*0.5)/len(x)+r*0.5*np.sum(w*w)\n",
        "  return error \n",
        "\n",
        "#Perform gradient descent\n",
        "learningrate = 0.01\n",
        "iterations = 100\n",
        "r=0.001 \n",
        "GD = grad(mse(x_train,t_train), (0))\n",
        "w_initial = random.uniform(key, (d,), dtype=np.float64)\n",
        "print(w_initial)\n",
        "for i in range(iterations):\n",
        "  w_gradient = GD(w_initial,r)\n",
        "  w_initial-=learningrate*w_gradient\n",
        "  aggerr=np.sum((np.dot(x_train,w_initial)-t_train)*(np.dot(x_train,w_initial)-t_train)*0.5)/len(x_train)+r*0.5*np.sum(w_initial*w_initial)\n",
        "  if i%10==0:\n",
        "    print(\"iteration: \",i,\"loss: \",aggerr)\n",
        "w_optimal=w_initial\n",
        "\n",
        "#Compute and print your test error\n",
        "y_test=x_test.dot(w_optimal)\n",
        "testerr=math.sqrt(np.sum((y_test-t_test)*(y_test-t_test)))\n",
        "print(testerr)"
      ],
      "execution_count": null,
      "outputs": [
        {
          "output_type": "stream",
          "text": [
            "[0.83079386 0.1660409  0.45611215 0.6428884  0.56865394]\n",
            "iteration:  0 loss:  7.698706\n",
            "iteration:  10 loss:  0.8703203\n",
            "iteration:  20 loss:  0.18497333\n",
            "iteration:  30 loss:  0.05390199\n",
            "iteration:  40 loss:  0.019125013\n",
            "iteration:  50 loss:  0.009033271\n",
            "iteration:  60 loss:  0.006034908\n",
            "iteration:  70 loss:  0.0051351422\n",
            "iteration:  80 loss:  0.004863055\n",
            "iteration:  90 loss:  0.0047801062\n",
            "0.6159172264954724\n"
          ],
          "name": "stdout"
        }
      ]
    },
    {
      "cell_type": "markdown",
      "metadata": {
        "id": "A18w7Gr9cJ0m"
      },
      "source": [
        "## 3.4 $l_1$ Regularization \n",
        "\n",
        "The next regularization technique we will introduce is called $l_1$ regularization. \n",
        "\n",
        "We define our mean-squared loss function as \n",
        "$$\\mathcal{E}_{l_1}(w) = \\dfrac{1}{2N}\\sum\\limits_{n=1}^N (w^\\top x_n + b - t_n)^2 + \\dfrac{\\lambda_1}{2}\\|w\\|_1$$\n",
        "where $\\lambda_1$ is again our regularization constant.\n",
        "\n",
        "This optimization problem is called the *LASSO*. \n",
        "\n",
        "**Repeat the previous experiment by training several different models and choosing the best one based on its performance on the validation set.** \n",
        "\n",
        "**Finally, pick the best performing model and use it to find the error between the predicted targets on the test set versus the true test targets.**"
      ]
    },
    {
      "cell_type": "code",
      "metadata": {
        "id": "ncDETNSk_--d",
        "colab": {
          "base_uri": "https://localhost:8080/"
        },
        "outputId": "0df9ea67-3dce-44d6-8383-f4a943e7df51"
      },
      "source": [
        "# Your code here\n",
        "r=np.array([0.1,0.01,0.001])\n",
        "w_initial = random.uniform(key, (d,), dtype=np.float64)\n",
        "print(w_initial)\n",
        "for k in range(len(r)):\n",
        "  w_exe=w_initial\n",
        "  def mse(x,t):\n",
        "    def error(w,r):\n",
        "      return np.sum((np.dot(x,w)-t)*(np.dot(x,w)-t)*0.5)/len(x)+r[k]*0.5*np.linalg.norm(w,1)\n",
        "    return error \n",
        "  GD = grad(mse(x_train,t_train), (0))\n",
        "  for i in range(iterations):\n",
        "    w_gradient = GD(w_exe,r)\n",
        "    w_exe-=learningrate*w_gradient\n",
        "    aggerr=np.sum((np.dot(x_train,w_exe)-t_train)*(np.dot(x_train,w_exe)-t_train)*0.5)/len(x_train)+r[k]*0.5*np.linalg.norm(w_exe,1)\n",
        "    if i%10==0:\n",
        "      print(\"iteration: \",i,\"loss: \",aggerr)\n",
        "  print(\"learning done\")\n",
        "  y_val=x_val.dot(w_exe)\n",
        "  valerr=math.sqrt(np.sum((y_val-t_val)*(y_val-t_val)))\n",
        "  print(\"validaiton error: \",valerr)\n",
        "#pick the best performing model\n",
        "r=0.001\n",
        "#Compute and print your test error\n",
        "w_exe=w_initial\n",
        "def mse(x,t):\n",
        "    def error(w,r):\n",
        "      return np.sum((np.dot(x,w)-t)*(np.dot(x,w)-t)*0.5)/len(x)+r*0.5*np.linalg.norm(w,1)\n",
        "    return error \n",
        "GD = grad(mse(x_train,t_train), (0))\n",
        "for i in range(iterations):\n",
        "  w_gradient = GD(w_exe,r)\n",
        "  w_exe-=learningrate*w_gradient\n",
        "  aggerr=np.sum((np.dot(x_train,w_exe)-t_train)*(np.dot(x_train,w_exe)-t_train)*0.5)/len(x_train)+r*0.5*np.linalg.norm(w_exe,1)\n",
        "  if i%10==0:\n",
        "    print(\"iteration: \",i,\"loss: \",aggerr)\n",
        "print(\"learning done\")\n",
        "y_val=x_val.dot(w_exe)\n",
        "valerr=math.sqrt(np.sum((y_val-t_val)*(y_val-t_val)))\n",
        "print(\"validaiton error: \",valerr)\n",
        "w_optimal=w_exe\n",
        "y_test=x_test.dot(w_optimal)\n",
        "testerr=math.sqrt(np.sum((y_test-t_test)*(y_test-t_test)))\n",
        "print(testerr)"
      ],
      "execution_count": null,
      "outputs": [
        {
          "output_type": "stream",
          "text": [
            "[0.83079386 0.1660409  0.45611215 0.6428884  0.56865394]\n",
            "iteration:  0 loss:  7.8076334\n",
            "iteration:  10 loss:  0.98115426\n",
            "iteration:  20 loss:  0.31005502\n",
            "iteration:  30 loss:  0.1807274\n",
            "iteration:  40 loss:  0.14640722\n",
            "iteration:  50 loss:  0.13647585\n",
            "iteration:  60 loss:  0.1335365\n",
            "iteration:  70 loss:  0.13265863\n",
            "iteration:  80 loss:  0.13239479\n",
            "iteration:  90 loss:  0.13231508\n",
            "learning done\n",
            "validaiton error:  0.5133296566321661\n",
            "iteration:  0 loss:  7.7089987\n",
            "iteration:  10 loss:  0.88076234\n",
            "iteration:  20 loss:  0.19673368\n",
            "iteration:  30 loss:  0.06579132\n",
            "iteration:  40 loss:  0.031042036\n",
            "iteration:  50 loss:  0.020959847\n",
            "iteration:  60 loss:  0.017965302\n",
            "iteration:  70 loss:  0.017067164\n",
            "iteration:  80 loss:  0.016795821\n",
            "iteration:  90 loss:  0.016713232\n",
            "learning done\n",
            "validaiton error:  0.4342800242377959\n",
            "iteration:  0 loss:  7.6991234\n",
            "iteration:  10 loss:  0.8706964\n",
            "iteration:  20 loss:  0.18533157\n",
            "iteration:  30 loss:  0.054214805\n",
            "iteration:  40 loss:  0.01941742\n",
            "iteration:  50 loss:  0.009317661\n",
            "iteration:  60 loss:  0.0063163484\n",
            "iteration:  70 loss:  0.0054155267\n",
            "iteration:  80 loss:  0.005143082\n",
            "iteration:  90 loss:  0.005060016\n",
            "learning done\n",
            "validaiton error:  0.43351005914978313\n",
            "iteration:  0 loss:  7.6991234\n",
            "iteration:  10 loss:  0.8706964\n",
            "iteration:  20 loss:  0.18533157\n",
            "iteration:  30 loss:  0.054214805\n",
            "iteration:  40 loss:  0.01941742\n",
            "iteration:  50 loss:  0.009317661\n",
            "iteration:  60 loss:  0.0063163484\n",
            "iteration:  70 loss:  0.0054155267\n",
            "iteration:  80 loss:  0.005143082\n",
            "iteration:  90 loss:  0.005060016\n",
            "learning done\n",
            "validaiton error:  0.43351005914978313\n",
            "0.6155285813011863\n"
          ],
          "name": "stdout"
        }
      ]
    },
    {
      "cell_type": "markdown",
      "metadata": {
        "id": "jr1f2ax2cQ6V"
      },
      "source": [
        "## 3.5 Approximate $l_1$ Regularization\n",
        "\n",
        "A technicality is that the  $l_1$ norm is not differentiable, so JAX was actually avoiding the non-differentiable points.\n",
        "\n",
        "To address the non-differentiability of $l_1$ norm, Schmidt *et al.* [1] proposed a differentiable approximation to the $l_1$ norm.\n",
        "\n",
        "In this case, we define our mean-squared loss function as \n",
        "$$\\mathcal{E}_{\\widetilde{l_1}}(w) = \\dfrac{1}{2N}\\sum\\limits_{n=1}^N (w^\\top x_n + b - t_n)^2 + \\sum\\limits_{i = 1}^d \\dfrac{\\lambda}{a} (\\log(1+\\exp(a w_i)) + \\log(1-\\exp(-a w_i)))$$\n",
        "where both $a$ and $\\lambda$ are regularization constants.\n",
        "\n",
        "\n",
        "**Repeat the previous experiments by training several different models and choosing the best one based on its performance on the validation set.** \n",
        "\n",
        "(For convenience, you can fix $a$, say $a = 0.1$. Alternatively you can tune both $a$ and $\\lambda$)\n",
        "\n",
        "**Finally, pick the best performing model and use it to find the error between the predicted targets on the test set versus the true test targets.**\n",
        "\n",
        "[1] *Mark Schmidt, Glenn Fung, and Rmer Rosales. Fast\n",
        "optimization methods for l1 regularization: A comparative study and two new approaches. In European Conference on Machine Learning, pages 286–297.\n",
        "Springer, 2007.*"
      ]
    },
    {
      "cell_type": "code",
      "metadata": {
        "id": "lNpXfqcJVhQd",
        "colab": {
          "base_uri": "https://localhost:8080/"
        },
        "outputId": "53442a86-717d-4391-dbd2-361700d217eb"
      },
      "source": [
        "# Your code here\n",
        "\n",
        "r=np.array([0.1,0.01,0.001])\n",
        "w_initial = random.uniform(key, (d,), dtype=np.float64)\n",
        "learningrate=0.01\n",
        "\n",
        "for k in range(len(r)):\n",
        "  w_exe=w_initial\n",
        "  def mse(x,t):\n",
        "    def error(w,r):\n",
        "      return np.sum((np.dot(x,w)-t)*(np.dot(x,w)-t)*0.5)/len(x)+(r[k]/0.1)*np.sum(np.log(1+np.exp(0.1*w))+np.log(1+np.exp(-0.1*w)))\n",
        "    return error \n",
        "  GD = grad(mse(x_train,t_train), (0))\n",
        "  for i in range(iterations):\n",
        "    w_gradient = GD(w_exe,r)\n",
        "    w_exe-=learningrate*w_gradient\n",
        "    aggerr=np.sum((np.dot(x_train,w_exe)-t_train)*(np.dot(x_train,w_exe)-t_train)*0.2)/len(x_train)+(r[k]/0.1)*np.sum(np.log(1+np.exp(0.1*w_exe))+np.log(1+np.exp(-0.1*w_exe)))\n",
        "    if i%10==0:\n",
        "      print(\"iteration: \",i,\"loss: \",aggerr,\"w\",w_exe)\n",
        "  print(\"learning done\")\n",
        "  y_val=x_val.dot(w_exe)\n",
        "  valerr=math.sqrt(np.sum((y_val-t_val)*(y_val-t_val)))\n",
        "  print(\"validaiton error: \",valerr)\n",
        "#pick the best performing model\n",
        "r=0.01 \n",
        "w_exe=w_initial\n",
        "def mse(x,t):\n",
        "    def error(w,r):\n",
        "      return np.sum((np.dot(x,w)-t)*(np.dot(x,w)-t)*0.5)/len(x)+(r/0.1)*np.sum(np.log(1+np.exp(0.1*w))+np.log(1+np.exp(-0.1*w)))\n",
        "    return error \n",
        "GD = grad(mse(x_train,t_train), (0))\n",
        "for i in range(iterations):\n",
        "  w_gradient = GD(w_exe,r)\n",
        "  w_exe-=learningrate*w_gradient\n",
        "  aggerr=np.sum((np.dot(x_train,w_exe)-t_train)*(np.dot(x_train,w_exe)-t_train)*0.2)/len(x_train)+(r/0.1)*np.sum(np.log(1+np.exp(0.1*w_exe))+np.log(1+np.exp(-0.1*w_exe)))\n",
        "  if i%10==0:\n",
        "    print(\"iteration: \",i,\"loss: \",aggerr)\n",
        "print(\"learning done\")\n",
        "y_val=x_val.dot(w_exe)\n",
        "valerr=math.sqrt(np.sum((y_val-t_val)*(y_val-t_val)))\n",
        "print(\"validaiton error: \",valerr)\n",
        "w_optimal=w_exe\n",
        "y_test=x_test.dot(w_optimal)\n",
        "testerr=math.sqrt(np.sum((y_test-t_test)*(y_test-t_test)))\n",
        "print(testerr)"
      ],
      "execution_count": null,
      "outputs": [
        {
          "output_type": "stream",
          "text": [
            "iteration:  0 loss:  10.014305 w [0.83696187 0.04519575 0.37926745 0.5853757  0.5675436 ]\n",
            "iteration:  10 loss:  7.282977 w [ 0.87953466 -0.60053086 -0.00204039  0.33874297  0.46044198]\n",
            "iteration:  20 loss:  7.009466 w [ 0.9075315  -0.8073534  -0.09344581  0.31355184  0.3443071 ]\n",
            "iteration:  30 loss:  6.95735 w [ 0.9269405  -0.88804686 -0.11502488  0.32582417  0.27052194]\n",
            "iteration:  40 loss:  6.9436 w [ 0.9394878  -0.92503035 -0.12004042  0.339269    0.22894448]\n",
            "iteration:  50 loss:  6.939649 w [ 0.94717723 -0.9436899  -0.1212737   0.3486437   0.20640309]\n",
            "iteration:  60 loss:  6.938495 w [ 0.95175624 -0.9535482  -0.1216995   0.35450977  0.19433494]\n",
            "iteration:  70 loss:  6.9381604 w [ 0.95445293 -0.9588549  -0.12196036  0.35804144  0.18789338]\n",
            "iteration:  80 loss:  6.9380655 w [ 0.956042   -0.9617267  -0.12217296  0.36013216  0.18445243]\n",
            "iteration:  90 loss:  6.9380407 w [ 0.9569863  -0.9632784  -0.12235078  0.3613587   0.18260981]\n",
            "learning done\n",
            "validaiton error:  0.43277300230958643\n",
            "iteration:  0 loss:  3.7727203 w [0.83699924 0.04520323 0.37928796 0.58540463 0.5675692 ]\n",
            "iteration:  10 loss:  1.041346 w [ 0.87981725 -0.600629   -0.00203477  0.3389189   0.46060777]\n",
            "iteration:  20 loss:  0.7672099 w [ 0.9079428  -0.80758286 -0.09353124  0.31381184  0.34446597]\n",
            "iteration:  30 loss:  0.7147893 w [ 0.9274358  -0.88836014 -0.11517373  0.32615346  0.27062663]\n",
            "iteration:  40 loss:  0.7008853 w [ 0.9400434  -0.9253941  -0.12022921  0.33965066  0.22899409]\n",
            "iteration:  50 loss:  0.6968536 w [ 0.9477768  -0.9440839  -0.12148888  0.3490618   0.20640995]\n",
            "iteration:  60 loss:  0.6956575 w [ 0.9523876  -0.9539602  -0.12193314  0.35495228  0.19431186]\n",
            "iteration:  70 loss:  0.6952997 w [ 0.95510703 -0.959277   -0.12220741  0.35849988  0.18785036]\n",
            "iteration:  80 loss:  0.695192 w [ 0.95671237 -0.96215403 -0.12242994  0.36060074  0.18439656]\n",
            "iteration:  90 loss:  0.6951595 w [ 0.95766836 -0.96370816 -0.12261523  0.36183378  0.18254577]\n",
            "learning done\n",
            "validaiton error:  0.43341995742820877\n",
            "iteration:  0 loss:  3.1485612 w [0.837003   0.04520398 0.37929    0.5854075  0.56757176]\n",
            "iteration:  10 loss:  0.4171826 w [ 0.87984556 -0.6006388  -0.00203419  0.33893648  0.4606243 ]\n",
            "iteration:  20 loss:  0.14298397 w [ 0.9079839  -0.80760586 -0.09353975  0.31383786  0.3444819 ]\n",
            "iteration:  30 loss:  0.09053287 w [ 0.92748535 -0.8883914  -0.1151886   0.32618645  0.27063712]\n",
            "iteration:  40 loss:  0.07661346 w [ 0.940099   -0.9254305  -0.12024811  0.33968887  0.22899908]\n",
            "iteration:  50 loss:  0.07257368 w [ 0.9478368  -0.9441234  -0.12151042  0.3491037   0.20641065]\n",
            "iteration:  60 loss:  0.07137332 w [ 0.95245075 -0.95400155 -0.12195652  0.35499662  0.19430955]\n",
            "iteration:  70 loss:  0.07101313 w [ 0.9551725  -0.95931923 -0.12223212  0.35854584  0.18784605]\n",
            "iteration:  80 loss:  0.07090425 w [ 0.95677954 -0.9621968  -0.12245568  0.36064768  0.18439098]\n",
            "iteration:  90 loss:  0.07087107 w [ 0.95773673 -0.96375114 -0.12264173  0.36188135  0.18253937]\n",
            "learning done\n",
            "validaiton error:  0.4335030813184651\n",
            "iteration:  0 loss:  3.7727203\n",
            "iteration:  10 loss:  1.0413461\n",
            "iteration:  20 loss:  0.7672099\n",
            "iteration:  30 loss:  0.71478933\n",
            "iteration:  40 loss:  0.70088536\n",
            "iteration:  50 loss:  0.69685364\n",
            "iteration:  60 loss:  0.69565755\n",
            "iteration:  70 loss:  0.69529974\n",
            "iteration:  80 loss:  0.69519204\n",
            "iteration:  90 loss:  0.69515955\n",
            "learning done\n",
            "validaiton error:  0.43341995742820877\n",
            "0.6158570060602153\n"
          ],
          "name": "stdout"
        }
      ]
    },
    {
      "cell_type": "markdown",
      "metadata": {
        "id": "tyCNgrkzcW3r"
      },
      "source": [
        "## 3.6 Elastic Net\n",
        "\n",
        "Finally, we can define our mean-squared loss function as a combination of $l_1$ and $l_2$ norm, \n",
        "$$\\mathcal{E}_{l_1+l_2}(w) = \\dfrac{1}{2N}\\sum\\limits_{n=1}^N (w^\\top x_n + b - t_n)^2 + \\frac{r_1}{2}\\|w\\|_1 + \\dfrac{r_2}{2}\\|w\\|_2^2$$\n",
        "\n",
        "This regularizer is called the elastic net. \n",
        "\n",
        "**Repeat the previous experiments by training several different models and choosing the best one based on its performance on the validation set.** \n",
        "\n",
        "**Finally, pick the best performing model and use it to find the error between the predicted targets on the test set versus the true test targets.**"
      ]
    },
    {
      "cell_type": "code",
      "metadata": {
        "id": "YZOjqRiPLtmr",
        "colab": {
          "base_uri": "https://localhost:8080/"
        },
        "outputId": "c918b344-42de-4634-d011-e1420c7c9dc7"
      },
      "source": [
        "# Your code here: \n",
        "r=np.array([0.1,0.01,0.001])\n",
        "w_initial = random.uniform(key, (d,), dtype=np.float64)\n",
        "print(w_initial)\n",
        "for k in range(len(r)):\n",
        "  w_exe=w_initial\n",
        "  def mse(x,t):\n",
        "    def error(w,r):\n",
        "      return np.sum((np.dot(x,w)-t)*(np.dot(x,w)-t)*0.5)/len(x)+r[k]*0.5*np.linalg.norm(w,1)+r[k]*0.5*np.sum(w*w)\n",
        "    return error \n",
        "  GD = grad(mse(x_train,t_train), (0))\n",
        "  for i in range(iterations):\n",
        "    w_gradient = GD(w_exe,r)\n",
        "    w_exe-=learningrate*w_gradient\n",
        "    aggerr=np.sum((np.dot(x_train,w_exe)-t_train)*(np.dot(x_train,w_exe)-t_train)*0.5)/len(x_train)+r[k]*0.5*np.linalg.norm(w_exe,1)+r[k]*0.5*np.sum(w_exe*w_exe)\n",
        "    if i%10==0:\n",
        "      print(\"iteration: \",i,\"loss: \",aggerr)\n",
        "  print(\"learning done\")\n",
        "  y_val=x_val.dot(w_exe)\n",
        "  valerr=math.sqrt(np.sum((y_val-t_val)*(y_val-t_val)))\n",
        "  print(\"validaiton error: \",valerr)\n",
        "#pick the best performing model\n",
        "r=0.001\n",
        "w_exe=w_initial\n",
        "def mse(x,t):\n",
        "    def error(w,r):\n",
        "      return np.sum((np.dot(x,w)-t)*(np.dot(x,w)-t)*0.5)/len(x)+r*0.5*np.linalg.norm(w,1)+r*0.5*np.sum(w*w)\n",
        "    return error \n",
        "GD = grad(mse(x_train,t_train), (0))\n",
        "for i in range(iterations):\n",
        "  w_gradient = GD(w_exe,r)\n",
        "  w_exe-=learningrate*w_gradient\n",
        "  aggerr=np.sum((np.dot(x_train,w_exe)-t_train)*(np.dot(x_train,w_exe)-t_train)*0.5)/len(x_train)+r*0.5*np.linalg.norm(w_exe,1)+r*0.5*np.sum(w_exe*w_exe)\n",
        "  if i%10==0:\n",
        "    print(\"iteration: \",i,\"loss: \",aggerr)\n",
        "print(\"learning done\")\n",
        "y_val=x_val.dot(w_exe)\n",
        "valerr=math.sqrt(np.sum((y_val-t_val)*(y_val-t_val)))\n",
        "print(\"validaiton error: \",valerr)\n",
        "w_optimal=w_exe\n",
        "y_test=x_test.dot(w_optimal)\n",
        "testerr=math.sqrt(np.sum((y_test-t_test)*(y_test-t_test)))\n",
        "print(testerr)"
      ],
      "execution_count": null,
      "outputs": [
        {
          "output_type": "stream",
          "text": [
            "[0.83079386 0.1660409  0.45611215 0.6428884  0.56865394]\n",
            "iteration:  0 loss:  7.8751106\n",
            "iteration:  10 loss:  1.0536957\n",
            "iteration:  20 loss:  0.39844126\n",
            "iteration:  30 loss:  0.27517712\n",
            "iteration:  40 loss:  0.24323499\n",
            "iteration:  50 loss:  0.23420286\n",
            "iteration:  60 loss:  0.23158887\n",
            "iteration:  70 loss:  0.23082466\n",
            "iteration:  80 loss:  0.23059946\n",
            "iteration:  90 loss:  0.2305325\n",
            "learning done\n",
            "validaiton error:  0.6540044558122481\n",
            "iteration:  0 loss:  7.7157803\n",
            "iteration:  10 loss:  0.88817\n",
            "iteration:  20 loss:  0.20580508\n",
            "iteration:  30 loss:  0.07550642\n",
            "iteration:  40 loss:  0.041013174\n",
            "iteration:  50 loss:  0.031029657\n",
            "iteration:  60 loss:  0.028071761\n",
            "iteration:  70 loss:  0.027186897\n",
            "iteration:  80 loss:  0.026920294\n",
            "iteration:  90 loss:  0.026839398\n",
            "learning done\n",
            "validaiton error:  0.4345829308210187\n",
            "iteration:  0 loss:  7.699803\n",
            "iteration:  10 loss:  0.8714388\n",
            "iteration:  20 loss:  0.18624085\n",
            "iteration:  30 loss:  0.05518902\n",
            "iteration:  40 loss:  0.020417443\n",
            "iteration:  50 loss:  0.010327679\n",
            "iteration:  60 loss:  0.007330069\n",
            "iteration:  70 loss:  0.006430606\n",
            "iteration:  80 loss:  0.0061586397\n",
            "iteration:  90 loss:  0.0060757534\n",
            "learning done\n",
            "validaiton error:  0.4333429900187673\n",
            "iteration:  0 loss:  7.699803\n",
            "iteration:  10 loss:  0.8714388\n",
            "iteration:  20 loss:  0.18624085\n",
            "iteration:  30 loss:  0.05518902\n",
            "iteration:  40 loss:  0.020417443\n",
            "iteration:  50 loss:  0.010327679\n",
            "iteration:  60 loss:  0.007330069\n",
            "iteration:  70 loss:  0.006430606\n",
            "iteration:  80 loss:  0.0061586397\n",
            "iteration:  90 loss:  0.0060757534\n",
            "learning done\n",
            "validaiton error:  0.4333429900187673\n",
            "0.6156560028325071\n"
          ],
          "name": "stdout"
        }
      ]
    },
    {
      "cell_type": "markdown",
      "metadata": {
        "id": "8hTRuzINYcwz"
      },
      "source": [
        "## 3.7 Report what you find\n",
        "\n",
        "How does the weight and bias compare under each regularization scheme? Which regularizer does the best on the test set?"
      ]
    },
    {
      "cell_type": "code",
      "metadata": {
        "id": "CWvoYKDGU5Bt"
      },
      "source": [
        ""
      ],
      "execution_count": null,
      "outputs": []
    },
    {
      "cell_type": "markdown",
      "metadata": {
        "id": "l4EfhAAht8qH"
      },
      "source": [
        "Report your finding here: All 4 regularization scheme output very same test error under their most prefered model."
      ]
    }
  ]
}